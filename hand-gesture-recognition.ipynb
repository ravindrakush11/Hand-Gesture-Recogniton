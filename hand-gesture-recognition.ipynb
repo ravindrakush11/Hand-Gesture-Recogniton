{
 "cells": [
  {
   "cell_type": "markdown",
   "id": "tutorial-nightmare",
   "metadata": {
    "_cell_guid": "b1076dfc-b9ad-4769-8c92-a6c4dae69d19",
    "_uuid": "8f2839f25d086af736a60e9eeb907d3b93b6e0e5",
    "papermill": {
     "duration": 0.025566,
     "end_time": "2022-10-27T05:14:24.253674",
     "exception": false,
     "start_time": "2022-10-27T05:14:24.228108",
     "status": "completed"
    },
    "tags": []
   },
   "source": [
    "## Problems Explaination\n",
    "We are given all the different gasture images considered in ASL (Americal Sign Language) and we need to come up with a machine learning model which can classifiy the images correctly ,or can tell us the class to which the given image belongs.\n",
    "Basically we will be building a image classification model . \n",
    "<br>\n",
    "## Data information\n",
    "we are given 2 comma saperated file(.csv) each on them contains some rows and 785 columns\n",
    "* from 2nd columns onwards each column represents the pixel values associated , representing a 28x28 grayscale image\n",
    "* first column in each row represents label with the image\n",
    "* There are total 24 lables (in american sign language) A-I,K-Y means A-Z except J and Z\n",
    "\n",
    "we will be using cnn to solve this problem .\n",
    "\n",
    "## What is an convolution neural network\n",
    "A Convolutional Neural Network (ConvNet/CNN) is a Deep Learning algorithm which can take in an input image, assign importance (learnable weights and biases) to various aspects/objects in the image and be able to differentiate one from the other.\n",
    "<br>\n",
    "A Cnn consists of 4 types of nueral layers (collection of 'nodes' operating together at a specific depth within a neural network) .\n",
    "* **Convolutional Layer** :  Used to detect features\n",
    "* **Non-Linearity Layer** :  Introducing non-linearity to the system\n",
    "* **Pooling (Downsampling) Layer** :  Reduces weight count and checks fitness\n",
    "* **Flattening Layer** :  Prepares data for Classical Neural Network\n",
    "* **Fully-Connected Layer** :  Standard Neural Network used in classification\n",
    "I'll not go in depth of each of these layers we will be more focused towards solving this problem,i.e implementation part."
   ]
  },
  {
   "cell_type": "markdown",
   "id": "basic-sender",
   "metadata": {
    "papermill": {
     "duration": 0.022325,
     "end_time": "2022-10-27T05:14:24.298454",
     "exception": false,
     "start_time": "2022-10-27T05:14:24.276129",
     "status": "completed"
    },
    "tags": []
   },
   "source": [
    "# import libraries"
   ]
  },
  {
   "cell_type": "code",
   "execution_count": 1,
   "id": "congressional-client",
   "metadata": {
    "execution": {
     "iopub.execute_input": "2022-10-27T05:14:24.348777Z",
     "iopub.status.busy": "2022-10-27T05:14:24.347271Z",
     "iopub.status.idle": "2022-10-27T05:14:30.456942Z",
     "shell.execute_reply": "2022-10-27T05:14:30.457462Z",
     "shell.execute_reply.started": "2022-10-22T11:30:03.691567Z"
    },
    "papermill": {
     "duration": 6.136596,
     "end_time": "2022-10-27T05:14:30.457797",
     "exception": false,
     "start_time": "2022-10-27T05:14:24.321201",
     "status": "completed"
    },
    "tags": []
   },
   "outputs": [],
   "source": [
    "import numpy as np\n",
    "import pandas as pd\n",
    "import matplotlib.pyplot as plt\n",
    "import seaborn as sns\n",
    "from sklearn.preprocessing import LabelBinarizer\n",
    "import tensorflow as tf\n",
    "import tensorflow_hub as hub\n",
    "from PIL import Image\n",
    "from keras.preprocessing.image import ImageDataGenerator\n",
    "from kerastuner import RandomSearch\n",
    "from kerastuner.engine.hyperparameters import HyperParameters\n",
    "from tensorflow import keras\n",
    "from keras.models import Sequential\n",
    "from keras.layers import Dense, Conv2D , MaxPool2D , Flatten , Dropout , BatchNormalization\n",
    "from keras.callbacks import ReduceLROnPlateau\n",
    "from sklearn.metrics import accuracy_score,confusion_matrix\n",
    "from keras.callbacks import ReduceLROnPlateau\n"
   ]
  },
  {
   "cell_type": "code",
   "execution_count": 2,
   "id": "going-maker",
   "metadata": {
    "execution": {
     "iopub.execute_input": "2022-10-27T05:14:30.517200Z",
     "iopub.status.busy": "2022-10-27T05:14:30.516662Z",
     "iopub.status.idle": "2022-10-27T05:14:34.154179Z",
     "shell.execute_reply": "2022-10-27T05:14:34.154579Z",
     "shell.execute_reply.started": "2022-10-22T11:30:10.189222Z"
    },
    "papermill": {
     "duration": 3.672449,
     "end_time": "2022-10-27T05:14:34.154747",
     "exception": false,
     "start_time": "2022-10-27T05:14:30.482298",
     "status": "completed"
    },
    "tags": []
   },
   "outputs": [
    {
     "name": "stdout",
     "output_type": "stream",
     "text": [
      "(27455, 785)\n"
     ]
    },
    {
     "data": {
      "text/html": [
       "<div>\n",
       "<style scoped>\n",
       "    .dataframe tbody tr th:only-of-type {\n",
       "        vertical-align: middle;\n",
       "    }\n",
       "\n",
       "    .dataframe tbody tr th {\n",
       "        vertical-align: top;\n",
       "    }\n",
       "\n",
       "    .dataframe thead th {\n",
       "        text-align: right;\n",
       "    }\n",
       "</style>\n",
       "<table border=\"1\" class=\"dataframe\">\n",
       "  <thead>\n",
       "    <tr style=\"text-align: right;\">\n",
       "      <th></th>\n",
       "      <th>label</th>\n",
       "      <th>pixel1</th>\n",
       "      <th>pixel2</th>\n",
       "      <th>pixel3</th>\n",
       "      <th>pixel4</th>\n",
       "      <th>pixel5</th>\n",
       "      <th>pixel6</th>\n",
       "      <th>pixel7</th>\n",
       "      <th>pixel8</th>\n",
       "      <th>pixel9</th>\n",
       "      <th>...</th>\n",
       "      <th>pixel775</th>\n",
       "      <th>pixel776</th>\n",
       "      <th>pixel777</th>\n",
       "      <th>pixel778</th>\n",
       "      <th>pixel779</th>\n",
       "      <th>pixel780</th>\n",
       "      <th>pixel781</th>\n",
       "      <th>pixel782</th>\n",
       "      <th>pixel783</th>\n",
       "      <th>pixel784</th>\n",
       "    </tr>\n",
       "  </thead>\n",
       "  <tbody>\n",
       "    <tr>\n",
       "      <th>0</th>\n",
       "      <td>3</td>\n",
       "      <td>107</td>\n",
       "      <td>118</td>\n",
       "      <td>127</td>\n",
       "      <td>134</td>\n",
       "      <td>139</td>\n",
       "      <td>143</td>\n",
       "      <td>146</td>\n",
       "      <td>150</td>\n",
       "      <td>153</td>\n",
       "      <td>...</td>\n",
       "      <td>207</td>\n",
       "      <td>207</td>\n",
       "      <td>207</td>\n",
       "      <td>207</td>\n",
       "      <td>206</td>\n",
       "      <td>206</td>\n",
       "      <td>206</td>\n",
       "      <td>204</td>\n",
       "      <td>203</td>\n",
       "      <td>202</td>\n",
       "    </tr>\n",
       "    <tr>\n",
       "      <th>1</th>\n",
       "      <td>6</td>\n",
       "      <td>155</td>\n",
       "      <td>157</td>\n",
       "      <td>156</td>\n",
       "      <td>156</td>\n",
       "      <td>156</td>\n",
       "      <td>157</td>\n",
       "      <td>156</td>\n",
       "      <td>158</td>\n",
       "      <td>158</td>\n",
       "      <td>...</td>\n",
       "      <td>69</td>\n",
       "      <td>149</td>\n",
       "      <td>128</td>\n",
       "      <td>87</td>\n",
       "      <td>94</td>\n",
       "      <td>163</td>\n",
       "      <td>175</td>\n",
       "      <td>103</td>\n",
       "      <td>135</td>\n",
       "      <td>149</td>\n",
       "    </tr>\n",
       "    <tr>\n",
       "      <th>2</th>\n",
       "      <td>2</td>\n",
       "      <td>187</td>\n",
       "      <td>188</td>\n",
       "      <td>188</td>\n",
       "      <td>187</td>\n",
       "      <td>187</td>\n",
       "      <td>186</td>\n",
       "      <td>187</td>\n",
       "      <td>188</td>\n",
       "      <td>187</td>\n",
       "      <td>...</td>\n",
       "      <td>202</td>\n",
       "      <td>201</td>\n",
       "      <td>200</td>\n",
       "      <td>199</td>\n",
       "      <td>198</td>\n",
       "      <td>199</td>\n",
       "      <td>198</td>\n",
       "      <td>195</td>\n",
       "      <td>194</td>\n",
       "      <td>195</td>\n",
       "    </tr>\n",
       "    <tr>\n",
       "      <th>3</th>\n",
       "      <td>2</td>\n",
       "      <td>211</td>\n",
       "      <td>211</td>\n",
       "      <td>212</td>\n",
       "      <td>212</td>\n",
       "      <td>211</td>\n",
       "      <td>210</td>\n",
       "      <td>211</td>\n",
       "      <td>210</td>\n",
       "      <td>210</td>\n",
       "      <td>...</td>\n",
       "      <td>235</td>\n",
       "      <td>234</td>\n",
       "      <td>233</td>\n",
       "      <td>231</td>\n",
       "      <td>230</td>\n",
       "      <td>226</td>\n",
       "      <td>225</td>\n",
       "      <td>222</td>\n",
       "      <td>229</td>\n",
       "      <td>163</td>\n",
       "    </tr>\n",
       "    <tr>\n",
       "      <th>4</th>\n",
       "      <td>13</td>\n",
       "      <td>164</td>\n",
       "      <td>167</td>\n",
       "      <td>170</td>\n",
       "      <td>172</td>\n",
       "      <td>176</td>\n",
       "      <td>179</td>\n",
       "      <td>180</td>\n",
       "      <td>184</td>\n",
       "      <td>185</td>\n",
       "      <td>...</td>\n",
       "      <td>92</td>\n",
       "      <td>105</td>\n",
       "      <td>105</td>\n",
       "      <td>108</td>\n",
       "      <td>133</td>\n",
       "      <td>163</td>\n",
       "      <td>157</td>\n",
       "      <td>163</td>\n",
       "      <td>164</td>\n",
       "      <td>179</td>\n",
       "    </tr>\n",
       "  </tbody>\n",
       "</table>\n",
       "<p>5 rows × 785 columns</p>\n",
       "</div>"
      ],
      "text/plain": [
       "   label  pixel1  pixel2  pixel3  pixel4  pixel5  pixel6  pixel7  pixel8  \\\n",
       "0      3     107     118     127     134     139     143     146     150   \n",
       "1      6     155     157     156     156     156     157     156     158   \n",
       "2      2     187     188     188     187     187     186     187     188   \n",
       "3      2     211     211     212     212     211     210     211     210   \n",
       "4     13     164     167     170     172     176     179     180     184   \n",
       "\n",
       "   pixel9  ...  pixel775  pixel776  pixel777  pixel778  pixel779  pixel780  \\\n",
       "0     153  ...       207       207       207       207       206       206   \n",
       "1     158  ...        69       149       128        87        94       163   \n",
       "2     187  ...       202       201       200       199       198       199   \n",
       "3     210  ...       235       234       233       231       230       226   \n",
       "4     185  ...        92       105       105       108       133       163   \n",
       "\n",
       "   pixel781  pixel782  pixel783  pixel784  \n",
       "0       206       204       203       202  \n",
       "1       175       103       135       149  \n",
       "2       198       195       194       195  \n",
       "3       225       222       229       163  \n",
       "4       157       163       164       179  \n",
       "\n",
       "[5 rows x 785 columns]"
      ]
     },
     "execution_count": 2,
     "metadata": {},
     "output_type": "execute_result"
    }
   ],
   "source": [
    "#reading data\n",
    "train_data = pd.read_csv(\"../input/sign-language-mnist/sign_mnist_train/sign_mnist_train.csv\")\n",
    "print(train_data.shape)\n",
    "train_data.head()"
   ]
  },
  {
   "cell_type": "code",
   "execution_count": 3,
   "id": "posted-dietary",
   "metadata": {
    "execution": {
     "iopub.execute_input": "2022-10-27T05:14:34.211424Z",
     "iopub.status.busy": "2022-10-27T05:14:34.210854Z",
     "iopub.status.idle": "2022-10-27T05:14:35.075590Z",
     "shell.execute_reply": "2022-10-27T05:14:35.075163Z",
     "shell.execute_reply.started": "2022-10-22T11:30:13.686415Z"
    },
    "papermill": {
     "duration": 0.896959,
     "end_time": "2022-10-27T05:14:35.075742",
     "exception": false,
     "start_time": "2022-10-27T05:14:34.178783",
     "status": "completed"
    },
    "tags": []
   },
   "outputs": [
    {
     "name": "stdout",
     "output_type": "stream",
     "text": [
      "(7172, 785)\n"
     ]
    },
    {
     "data": {
      "text/html": [
       "<div>\n",
       "<style scoped>\n",
       "    .dataframe tbody tr th:only-of-type {\n",
       "        vertical-align: middle;\n",
       "    }\n",
       "\n",
       "    .dataframe tbody tr th {\n",
       "        vertical-align: top;\n",
       "    }\n",
       "\n",
       "    .dataframe thead th {\n",
       "        text-align: right;\n",
       "    }\n",
       "</style>\n",
       "<table border=\"1\" class=\"dataframe\">\n",
       "  <thead>\n",
       "    <tr style=\"text-align: right;\">\n",
       "      <th></th>\n",
       "      <th>label</th>\n",
       "      <th>pixel1</th>\n",
       "      <th>pixel2</th>\n",
       "      <th>pixel3</th>\n",
       "      <th>pixel4</th>\n",
       "      <th>pixel5</th>\n",
       "      <th>pixel6</th>\n",
       "      <th>pixel7</th>\n",
       "      <th>pixel8</th>\n",
       "      <th>pixel9</th>\n",
       "      <th>...</th>\n",
       "      <th>pixel775</th>\n",
       "      <th>pixel776</th>\n",
       "      <th>pixel777</th>\n",
       "      <th>pixel778</th>\n",
       "      <th>pixel779</th>\n",
       "      <th>pixel780</th>\n",
       "      <th>pixel781</th>\n",
       "      <th>pixel782</th>\n",
       "      <th>pixel783</th>\n",
       "      <th>pixel784</th>\n",
       "    </tr>\n",
       "  </thead>\n",
       "  <tbody>\n",
       "    <tr>\n",
       "      <th>0</th>\n",
       "      <td>6</td>\n",
       "      <td>149</td>\n",
       "      <td>149</td>\n",
       "      <td>150</td>\n",
       "      <td>150</td>\n",
       "      <td>150</td>\n",
       "      <td>151</td>\n",
       "      <td>151</td>\n",
       "      <td>150</td>\n",
       "      <td>151</td>\n",
       "      <td>...</td>\n",
       "      <td>138</td>\n",
       "      <td>148</td>\n",
       "      <td>127</td>\n",
       "      <td>89</td>\n",
       "      <td>82</td>\n",
       "      <td>96</td>\n",
       "      <td>106</td>\n",
       "      <td>112</td>\n",
       "      <td>120</td>\n",
       "      <td>107</td>\n",
       "    </tr>\n",
       "    <tr>\n",
       "      <th>1</th>\n",
       "      <td>5</td>\n",
       "      <td>126</td>\n",
       "      <td>128</td>\n",
       "      <td>131</td>\n",
       "      <td>132</td>\n",
       "      <td>133</td>\n",
       "      <td>134</td>\n",
       "      <td>135</td>\n",
       "      <td>135</td>\n",
       "      <td>136</td>\n",
       "      <td>...</td>\n",
       "      <td>47</td>\n",
       "      <td>104</td>\n",
       "      <td>194</td>\n",
       "      <td>183</td>\n",
       "      <td>186</td>\n",
       "      <td>184</td>\n",
       "      <td>184</td>\n",
       "      <td>184</td>\n",
       "      <td>182</td>\n",
       "      <td>180</td>\n",
       "    </tr>\n",
       "    <tr>\n",
       "      <th>2</th>\n",
       "      <td>10</td>\n",
       "      <td>85</td>\n",
       "      <td>88</td>\n",
       "      <td>92</td>\n",
       "      <td>96</td>\n",
       "      <td>105</td>\n",
       "      <td>123</td>\n",
       "      <td>135</td>\n",
       "      <td>143</td>\n",
       "      <td>147</td>\n",
       "      <td>...</td>\n",
       "      <td>68</td>\n",
       "      <td>166</td>\n",
       "      <td>242</td>\n",
       "      <td>227</td>\n",
       "      <td>230</td>\n",
       "      <td>227</td>\n",
       "      <td>226</td>\n",
       "      <td>225</td>\n",
       "      <td>224</td>\n",
       "      <td>222</td>\n",
       "    </tr>\n",
       "    <tr>\n",
       "      <th>3</th>\n",
       "      <td>0</td>\n",
       "      <td>203</td>\n",
       "      <td>205</td>\n",
       "      <td>207</td>\n",
       "      <td>206</td>\n",
       "      <td>207</td>\n",
       "      <td>209</td>\n",
       "      <td>210</td>\n",
       "      <td>209</td>\n",
       "      <td>210</td>\n",
       "      <td>...</td>\n",
       "      <td>154</td>\n",
       "      <td>248</td>\n",
       "      <td>247</td>\n",
       "      <td>248</td>\n",
       "      <td>253</td>\n",
       "      <td>236</td>\n",
       "      <td>230</td>\n",
       "      <td>240</td>\n",
       "      <td>253</td>\n",
       "      <td>255</td>\n",
       "    </tr>\n",
       "    <tr>\n",
       "      <th>4</th>\n",
       "      <td>3</td>\n",
       "      <td>188</td>\n",
       "      <td>191</td>\n",
       "      <td>193</td>\n",
       "      <td>195</td>\n",
       "      <td>199</td>\n",
       "      <td>201</td>\n",
       "      <td>202</td>\n",
       "      <td>203</td>\n",
       "      <td>203</td>\n",
       "      <td>...</td>\n",
       "      <td>26</td>\n",
       "      <td>40</td>\n",
       "      <td>64</td>\n",
       "      <td>48</td>\n",
       "      <td>29</td>\n",
       "      <td>46</td>\n",
       "      <td>49</td>\n",
       "      <td>46</td>\n",
       "      <td>46</td>\n",
       "      <td>53</td>\n",
       "    </tr>\n",
       "  </tbody>\n",
       "</table>\n",
       "<p>5 rows × 785 columns</p>\n",
       "</div>"
      ],
      "text/plain": [
       "   label  pixel1  pixel2  pixel3  pixel4  pixel5  pixel6  pixel7  pixel8  \\\n",
       "0      6     149     149     150     150     150     151     151     150   \n",
       "1      5     126     128     131     132     133     134     135     135   \n",
       "2     10      85      88      92      96     105     123     135     143   \n",
       "3      0     203     205     207     206     207     209     210     209   \n",
       "4      3     188     191     193     195     199     201     202     203   \n",
       "\n",
       "   pixel9  ...  pixel775  pixel776  pixel777  pixel778  pixel779  pixel780  \\\n",
       "0     151  ...       138       148       127        89        82        96   \n",
       "1     136  ...        47       104       194       183       186       184   \n",
       "2     147  ...        68       166       242       227       230       227   \n",
       "3     210  ...       154       248       247       248       253       236   \n",
       "4     203  ...        26        40        64        48        29        46   \n",
       "\n",
       "   pixel781  pixel782  pixel783  pixel784  \n",
       "0       106       112       120       107  \n",
       "1       184       184       182       180  \n",
       "2       226       225       224       222  \n",
       "3       230       240       253       255  \n",
       "4        49        46        46        53  \n",
       "\n",
       "[5 rows x 785 columns]"
      ]
     },
     "execution_count": 3,
     "metadata": {},
     "output_type": "execute_result"
    }
   ],
   "source": [
    "test_data = pd.read_csv(\"../input/sign-language-mnist/sign_mnist_test/sign_mnist_test.csv\")\n",
    "print(test_data.shape)\n",
    "test_data.head()"
   ]
  },
  {
   "cell_type": "markdown",
   "id": "covered-flood",
   "metadata": {
    "papermill": {
     "duration": 0.024144,
     "end_time": "2022-10-27T05:14:35.124624",
     "exception": false,
     "start_time": "2022-10-27T05:14:35.100480",
     "status": "completed"
    },
    "tags": []
   },
   "source": [
    " In our dataset we are given lable for the corrosponding gasture and 784 (28 x 28) pixel values represting an image <br>\n",
    "* Training data contains 27455 images \n",
    "* test data contains 7172 images \n",
    "\n",
    "# Data preprocessing\n",
    "* converting array to images(tensors)\n",
    "\n",
    "* visulaizing lables and making sure that dataset is balanced\n",
    "* performing one hot encoding for lables"
   ]
  },
  {
   "cell_type": "code",
   "execution_count": 4,
   "id": "included-alberta",
   "metadata": {
    "execution": {
     "iopub.execute_input": "2022-10-27T05:14:35.188379Z",
     "iopub.status.busy": "2022-10-27T05:14:35.186903Z",
     "iopub.status.idle": "2022-10-27T05:14:35.259249Z",
     "shell.execute_reply": "2022-10-27T05:14:35.258599Z",
     "shell.execute_reply.started": "2022-10-22T11:30:14.558827Z"
    },
    "papermill": {
     "duration": 0.106818,
     "end_time": "2022-10-27T05:14:35.259399",
     "exception": false,
     "start_time": "2022-10-27T05:14:35.152581",
     "status": "completed"
    },
    "tags": []
   },
   "outputs": [],
   "source": [
    "y_train = train_data['label']\n",
    "y_test = test_data['label']\n",
    "del train_data['label']\n",
    "del test_data['label']"
   ]
  },
  {
   "cell_type": "code",
   "execution_count": 5,
   "id": "indoor-receipt",
   "metadata": {
    "execution": {
     "iopub.execute_input": "2022-10-27T05:14:35.320212Z",
     "iopub.status.busy": "2022-10-27T05:14:35.319305Z",
     "iopub.status.idle": "2022-10-27T05:14:35.324380Z",
     "shell.execute_reply": "2022-10-27T05:14:35.323858Z",
     "shell.execute_reply.started": "2022-10-22T11:30:14.630571Z"
    },
    "papermill": {
     "duration": 0.035762,
     "end_time": "2022-10-27T05:14:35.324492",
     "exception": false,
     "start_time": "2022-10-27T05:14:35.288730",
     "status": "completed"
    },
    "tags": []
   },
   "outputs": [
    {
     "data": {
      "text/plain": [
       "array([ 0,  1,  2,  3,  4,  5,  6,  7,  8, 10, 11, 12, 13, 14, 15, 16, 17,\n",
       "       18, 19, 20, 21, 22, 23, 24])"
      ]
     },
     "execution_count": 5,
     "metadata": {},
     "output_type": "execute_result"
    }
   ],
   "source": [
    "unique_labels = y_train.unique()\n",
    "unique_labels = np.sort(unique_labels)\n",
    "unique_labels"
   ]
  },
  {
   "cell_type": "code",
   "execution_count": 6,
   "id": "twelve-theory",
   "metadata": {
    "execution": {
     "iopub.execute_input": "2022-10-27T05:14:35.378413Z",
     "iopub.status.busy": "2022-10-27T05:14:35.377625Z",
     "iopub.status.idle": "2022-10-27T05:14:35.726194Z",
     "shell.execute_reply": "2022-10-27T05:14:35.726582Z",
     "shell.execute_reply.started": "2022-10-22T11:30:14.640483Z"
    },
    "papermill": {
     "duration": 0.377969,
     "end_time": "2022-10-27T05:14:35.726764",
     "exception": false,
     "start_time": "2022-10-27T05:14:35.348795",
     "status": "completed"
    },
    "tags": []
   },
   "outputs": [
    {
     "name": "stderr",
     "output_type": "stream",
     "text": [
      "/opt/conda/lib/python3.7/site-packages/seaborn/_decorators.py:43: FutureWarning: Pass the following variable as a keyword arg: x. From version 0.12, the only valid positional argument will be `data`, and passing other arguments without an explicit keyword will result in an error or misinterpretation.\n",
      "  FutureWarning\n"
     ]
    },
    {
     "data": {
      "image/png": "[encoded data removed]",
      "text/plain": [
       "<Figure size 1080x432 with 1 Axes>"
      ]
     },
     "metadata": {
      "needs_background": "light"
     },
     "output_type": "display_data"
    }
   ],
   "source": [
    "# visulaizing the data\n",
    "plt.figure(figsize=(15,6))\n",
    "sns.set_style(\"darkgrid\");\n",
    "sns.countplot(y_train);"
   ]
  },
  {
   "cell_type": "code",
   "execution_count": 7,
   "id": "yellow-underwear",
   "metadata": {
    "execution": {
     "iopub.execute_input": "2022-10-27T05:14:35.783110Z",
     "iopub.status.busy": "2022-10-27T05:14:35.782365Z",
     "iopub.status.idle": "2022-10-27T05:14:35.797920Z",
     "shell.execute_reply": "2022-10-27T05:14:35.797424Z",
     "shell.execute_reply.started": "2022-10-22T11:30:14.987960Z"
    },
    "papermill": {
     "duration": 0.045327,
     "end_time": "2022-10-27T05:14:35.798036",
     "exception": false,
     "start_time": "2022-10-27T05:14:35.752709",
     "status": "completed"
    },
    "tags": []
   },
   "outputs": [
    {
     "data": {
      "text/plain": [
       "array([[0, 0, 0, 1, 0, 0, 0, 0, 0, 0, 0, 0, 0, 0, 0, 0, 0, 0, 0, 0, 0, 0,\n",
       "        0, 0],\n",
       "       [0, 0, 0, 0, 0, 0, 1, 0, 0, 0, 0, 0, 0, 0, 0, 0, 0, 0, 0, 0, 0, 0,\n",
       "        0, 0]])"
      ]
     },
     "execution_count": 7,
     "metadata": {},
     "output_type": "execute_result"
    }
   ],
   "source": [
    "label_binarizer = LabelBinarizer()\n",
    "y_train = label_binarizer.fit_transform(y_train)\n",
    "y_test = label_binarizer.fit_transform(y_test)\n",
    "\n",
    "y_train[:2]"
   ]
  },
  {
   "cell_type": "code",
   "execution_count": 8,
   "id": "naked-review",
   "metadata": {
    "execution": {
     "iopub.execute_input": "2022-10-27T05:14:35.853117Z",
     "iopub.status.busy": "2022-10-27T05:14:35.852462Z",
     "iopub.status.idle": "2022-10-27T05:14:35.855896Z",
     "shell.execute_reply": "2022-10-27T05:14:35.855460Z",
     "shell.execute_reply.started": "2022-10-22T11:30:15.010456Z"
    },
    "papermill": {
     "duration": 0.032436,
     "end_time": "2022-10-27T05:14:35.856013",
     "exception": false,
     "start_time": "2022-10-27T05:14:35.823577",
     "status": "completed"
    },
    "tags": []
   },
   "outputs": [],
   "source": [
    "def preprocess_image(x):\n",
    "    \n",
    "    \"\"\" Converting the 255 values in to the value of 0 and 1\"\"\"\n",
    "    x = x/255\n",
    "    x = x.reshape(-1,28,28,1) # convertin it into 28 x 28 gray scaled image\n",
    "    \n",
    "    return x\n",
    "    "
   ]
  },
  {
   "cell_type": "code",
   "execution_count": 9,
   "id": "perceived-steering",
   "metadata": {
    "execution": {
     "iopub.execute_input": "2022-10-27T05:14:35.911235Z",
     "iopub.status.busy": "2022-10-27T05:14:35.910243Z",
     "iopub.status.idle": "2022-10-27T05:14:35.992215Z",
     "shell.execute_reply": "2022-10-27T05:14:35.991706Z",
     "shell.execute_reply.started": "2022-10-22T11:30:15.019691Z"
    },
    "papermill": {
     "duration": 0.1111,
     "end_time": "2022-10-27T05:14:35.992351",
     "exception": false,
     "start_time": "2022-10-27T05:14:35.881251",
     "status": "completed"
    },
    "tags": []
   },
   "outputs": [],
   "source": [
    "train_x = preprocess_image(train_data.values)\n",
    "test_x = preprocess_image(test_data.values)"
   ]
  },
  {
   "cell_type": "code",
   "execution_count": 10,
   "id": "adequate-cincinnati",
   "metadata": {
    "execution": {
     "iopub.execute_input": "2022-10-27T05:14:36.049412Z",
     "iopub.status.busy": "2022-10-27T05:14:36.048767Z",
     "iopub.status.idle": "2022-10-27T05:14:36.052081Z",
     "shell.execute_reply": "2022-10-27T05:14:36.051595Z",
     "shell.execute_reply.started": "2022-10-22T11:30:15.110774Z"
    },
    "papermill": {
     "duration": 0.034068,
     "end_time": "2022-10-27T05:14:36.052197",
     "exception": false,
     "start_time": "2022-10-27T05:14:36.018129",
     "status": "completed"
    },
    "tags": []
   },
   "outputs": [],
   "source": [
    "def show_images(images,labels):\n",
    "    fig,ax = plt.subplots(2,5)\n",
    "    fig.set_size_inches(10, 6)\n",
    "    k =0\n",
    "    for i in range(2):\n",
    "        for j in range(5):\n",
    "            ax[i,j].imshow(images[k] , cmap='gray')\n",
    "            ax[i,j].set_title(str(unique_labels[np.argmax(y_train[k])]))\n",
    "            k = k+1;\n",
    "    plt.tight_layout()\n",
    "\n",
    "    "
   ]
  },
  {
   "cell_type": "code",
   "execution_count": 11,
   "id": "personalized-superior",
   "metadata": {
    "execution": {
     "iopub.execute_input": "2022-10-27T05:14:36.108025Z",
     "iopub.status.busy": "2022-10-27T05:14:36.107474Z",
     "iopub.status.idle": "2022-10-27T05:14:37.357181Z",
     "shell.execute_reply": "2022-10-27T05:14:37.357641Z",
     "shell.execute_reply.started": "2022-10-22T11:30:15.119561Z"
    },
    "papermill": {
     "duration": 1.27974,
     "end_time": "2022-10-27T05:14:37.357814",
     "exception": false,
     "start_time": "2022-10-27T05:14:36.078074",
     "status": "completed"
    },
    "tags": []
   },
   "outputs": [
    {
     "data": {
      "image/png": "[encoded data removed]",
      "text/plain": [
       "<Figure size 720x432 with 10 Axes>"
      ]
     },
     "metadata": {},
     "output_type": "display_data"
    }
   ],
   "source": [
    "#let's see first 10 images from training set\n",
    "show_images(train_x,y_train)"
   ]
  },
  {
   "cell_type": "code",
   "execution_count": 12,
   "id": "promotional-listing",
   "metadata": {
    "execution": {
     "iopub.execute_input": "2022-10-27T05:14:37.430159Z",
     "iopub.status.busy": "2022-10-27T05:14:37.429300Z",
     "iopub.status.idle": "2022-10-27T05:14:38.718014Z",
     "shell.execute_reply": "2022-10-27T05:14:38.719099Z",
     "shell.execute_reply.started": "2022-10-22T11:30:16.429753Z"
    },
    "papermill": {
     "duration": 1.334467,
     "end_time": "2022-10-27T05:14:38.719302",
     "exception": false,
     "start_time": "2022-10-27T05:14:37.384835",
     "status": "completed"
    },
    "tags": []
   },
   "outputs": [
    {
     "data": {
      "image/png": "[encoded data removed]",
      "text/plain": [
       "<Figure size 720x432 with 10 Axes>"
      ]
     },
     "metadata": {},
     "output_type": "display_data"
    }
   ],
   "source": [
    "#let's visualize test images as well\n",
    "show_images(test_x,y_test)"
   ]
  },
  {
   "cell_type": "markdown",
   "id": "adequate-andrews",
   "metadata": {
    "papermill": {
     "duration": 0.040768,
     "end_time": "2022-10-27T05:14:38.802634",
     "exception": false,
     "start_time": "2022-10-27T05:14:38.761866",
     "status": "completed"
    },
    "tags": []
   },
   "source": [
    "## Data Augmentation\n"
   ]
  },
  {
   "cell_type": "code",
   "execution_count": 13,
   "id": "automotive-course",
   "metadata": {
    "execution": {
     "iopub.execute_input": "2022-10-27T05:14:38.897566Z",
     "iopub.status.busy": "2022-10-27T05:14:38.896830Z",
     "iopub.status.idle": "2022-10-27T05:14:38.965387Z",
     "shell.execute_reply": "2022-10-27T05:14:38.966477Z",
     "shell.execute_reply.started": "2022-10-22T11:30:17.686771Z"
    },
    "papermill": {
     "duration": 0.123757,
     "end_time": "2022-10-27T05:14:38.966710",
     "exception": false,
     "start_time": "2022-10-27T05:14:38.842953",
     "status": "completed"
    },
    "tags": []
   },
   "outputs": [],
   "source": [
    "datagen = ImageDataGenerator(\n",
    "        featurewise_center=False,  # set input mean to 0 over the dataset\n",
    "        samplewise_center=False,  # set each sample mean to 0\n",
    "        featurewise_std_normalization=False,  # divide inputs by std of the dataset\n",
    "        samplewise_std_normalization=False,  # divide each input by its std\n",
    "        zca_whitening=False,  # apply ZCA whitening\n",
    "        rotation_range=10,  # randomly rotate images in the range (degrees, 0 to 180)\n",
    "        zoom_range = 0.1, # Randomly zoom image \n",
    "        width_shift_range=0.1,  # randomly shift images horizontally (fraction of total width)\n",
    "        height_shift_range=0.1,  # randomly shift images vertically (fraction of total height)\n",
    "        horizontal_flip=False,  # randomly flip images\n",
    "        vertical_flip=False)  # randomly flip images\n",
    "\n",
    "\n",
    "datagen.fit(train_x)"
   ]
  },
  {
   "cell_type": "markdown",
   "id": "forced-insulin",
   "metadata": {
    "papermill": {
     "duration": 0.048587,
     "end_time": "2022-10-27T05:14:39.056943",
     "exception": false,
     "start_time": "2022-10-27T05:14:39.008356",
     "status": "completed"
    },
    "tags": []
   },
   "source": [
    "## Buidling the CNN model\n",
    "we will be building a CNN model to classify images , as usual we will try a few of conv2d layers along with batchNormalization and regulization(dropout) and then fallten layer then dense layer .\n"
   ]
  },
  {
   "cell_type": "code",
   "execution_count": 14,
   "id": "photographic-fields",
   "metadata": {
    "execution": {
     "iopub.execute_input": "2022-10-27T05:14:39.124337Z",
     "iopub.status.busy": "2022-10-27T05:14:39.123566Z",
     "iopub.status.idle": "2022-10-27T05:14:39.126335Z",
     "shell.execute_reply": "2022-10-27T05:14:39.125927Z",
     "shell.execute_reply.started": "2022-10-22T11:30:17.761597Z"
    },
    "papermill": {
     "duration": 0.03959,
     "end_time": "2022-10-27T05:14:39.126450",
     "exception": false,
     "start_time": "2022-10-27T05:14:39.086860",
     "status": "completed"
    },
    "tags": []
   },
   "outputs": [],
   "source": [
    "def build_model(hp):  \n",
    "  model = keras.Sequential([\n",
    "    keras.layers.Conv2D(\n",
    "        filters=hp.Int('conv_1_filter', min_value=75, max_value=200, step=25),\n",
    "        kernel_size=(3,3),\n",
    "        activation='relu',\n",
    "        \n",
    "        input_shape=(28,28,1)\n",
    "    ),\n",
    "    keras.layers.BatchNormalization(),\n",
    "    keras.layers.MaxPool2D(pool_size=(2,2),strides=2,padding='same'),\n",
    "    keras.layers.Conv2D(\n",
    "        filters=hp.Int('conv_2_filter', min_value=50, max_value=125, step=25),\n",
    "        kernel_size=(3,3),\n",
    "        activation='relu',\n",
    "    ),\n",
    "    \n",
    "    keras.layers.Dropout(\n",
    "        rate = hp.Choice('drop_1_rate', values = [0.1,0.5])\n",
    "    ),\n",
    "    keras.layers.BatchNormalization(),\n",
    "    keras.layers.MaxPool2D(pool_size=(2,2),strides=2,padding='same'),\n",
    "    \n",
    "    \n",
    "    keras.layers.Conv2D(\n",
    "        filters=hp.Int('conv_3_filter', min_value=25, max_value=75, step=25),\n",
    "        kernel_size=(3,3),\n",
    "        activation='relu',\n",
    "    ),\n",
    "    keras.layers.BatchNormalization(),\n",
    "    keras.layers.MaxPool2D(pool_size=(2,2),strides=2,padding='same'),  \n",
    "    keras.layers.Flatten(),\n",
    "    keras.layers.Dense(\n",
    "        units=hp.Int('dense_1_units', min_value=128, max_value=1024, step=32),\n",
    "        activation='relu'\n",
    "    ),\n",
    "    keras.layers.Dropout(\n",
    "        rate = hp.Choice('drop_2_rate', values = [0.1,0.3])\n",
    "    ),\n",
    "    keras.layers.Dense(24, activation='softmax')\n",
    "  ])\n",
    "  \n",
    "  model.compile(optimizer=keras.optimizers.Adam(hp.Choice('learning_rate', values=[1e-2, 1e-3])),\n",
    "              loss='categorical_crossentropy',\n",
    "              metrics=['accuracy'])\n",
    "  \n",
    "  return model"
   ]
  },
  {
   "cell_type": "code",
   "execution_count": 15,
   "id": "israeli-fisher",
   "metadata": {
    "execution": {
     "iopub.execute_input": "2022-10-27T05:14:39.188216Z",
     "iopub.status.busy": "2022-10-27T05:14:39.187682Z",
     "iopub.status.idle": "2022-10-27T05:14:41.737659Z",
     "shell.execute_reply": "2022-10-27T05:14:41.737128Z",
     "shell.execute_reply.started": "2022-10-22T11:30:17.774198Z"
    },
    "papermill": {
     "duration": 2.584145,
     "end_time": "2022-10-27T05:14:41.737817",
     "exception": false,
     "start_time": "2022-10-27T05:14:39.153672",
     "status": "completed"
    },
    "tags": []
   },
   "outputs": [],
   "source": [
    "tuner_search=RandomSearch(build_model,\n",
    "                          objective='val_accuracy',\n",
    "                          max_trials=5,directory='output',project_name=\"ASLdetection1\")"
   ]
  },
  {
   "cell_type": "code",
   "execution_count": 16,
   "id": "black-canberra",
   "metadata": {
    "execution": {
     "iopub.execute_input": "2022-10-27T05:14:41.802402Z",
     "iopub.status.busy": "2022-10-27T05:14:41.799921Z",
     "iopub.status.idle": "2022-10-27T05:18:13.005245Z",
     "shell.execute_reply": "2022-10-27T05:18:13.004807Z",
     "shell.execute_reply.started": "2022-10-22T11:30:20.555584Z"
    },
    "papermill": {
     "duration": 211.239505,
     "end_time": "2022-10-27T05:18:13.005392",
     "exception": false,
     "start_time": "2022-10-27T05:14:41.765887",
     "status": "completed"
    },
    "tags": []
   },
   "outputs": [
    {
     "name": "stdout",
     "output_type": "stream",
     "text": [
      "Trial 5 Complete [00h 00m 41s]\n",
      "val_accuracy: 0.901979923248291\n",
      "\n",
      "Best val_accuracy So Far: 0.9588678479194641\n",
      "Total elapsed time: 00h 03m 31s\n"
     ]
    }
   ],
   "source": [
    "tuner_search.search(train_x,y_train,epochs=5,validation_data = (test_x, y_test))"
   ]
  },
  {
   "cell_type": "code",
   "execution_count": 17,
   "id": "copyrighted-authentication",
   "metadata": {
    "execution": {
     "iopub.execute_input": "2022-10-27T05:18:13.073706Z",
     "iopub.status.busy": "2022-10-27T05:18:13.072437Z",
     "iopub.status.idle": "2022-10-27T05:18:13.418279Z",
     "shell.execute_reply": "2022-10-27T05:18:13.417337Z",
     "shell.execute_reply.started": "2022-10-22T11:33:25.788490Z"
    },
    "papermill": {
     "duration": 0.380794,
     "end_time": "2022-10-27T05:18:13.418421",
     "exception": false,
     "start_time": "2022-10-27T05:18:13.037627",
     "status": "completed"
    },
    "tags": []
   },
   "outputs": [],
   "source": [
    "model=tuner_search.get_best_models(num_models=1)[0] #this will give us the best tuned model"
   ]
  },
  {
   "cell_type": "code",
   "execution_count": 18,
   "id": "willing-samoa",
   "metadata": {
    "execution": {
     "iopub.execute_input": "2022-10-27T05:18:13.484057Z",
     "iopub.status.busy": "2022-10-27T05:18:13.482520Z",
     "iopub.status.idle": "2022-10-27T05:18:13.484862Z",
     "shell.execute_reply": "2022-10-27T05:18:13.485346Z",
     "shell.execute_reply.started": "2022-10-22T11:33:26.115285Z"
    },
    "papermill": {
     "duration": 0.037032,
     "end_time": "2022-10-27T05:18:13.485493",
     "exception": false,
     "start_time": "2022-10-27T05:18:13.448461",
     "status": "completed"
    },
    "tags": []
   },
   "outputs": [],
   "source": [
    "lr_reduction = ReduceLROnPlateau(monitor='val_accuracy', patience = 3, verbose=1,factor=0.5, min_lr=0.00001)"
   ]
  },
  {
   "cell_type": "markdown",
   "id": "chemical-belgium",
   "metadata": {
    "papermill": {
     "duration": 0.029111,
     "end_time": "2022-10-27T05:18:13.545025",
     "exception": false,
     "start_time": "2022-10-27T05:18:13.515914",
     "status": "completed"
    },
    "tags": []
   },
   "source": [
    "now let's train the model "
   ]
  },
  {
   "cell_type": "code",
   "execution_count": 19,
   "id": "tired-carpet",
   "metadata": {
    "execution": {
     "iopub.execute_input": "2022-10-27T05:18:13.609912Z",
     "iopub.status.busy": "2022-10-27T05:18:13.608701Z",
     "iopub.status.idle": "2022-10-27T05:19:42.217858Z",
     "shell.execute_reply": "2022-10-27T05:19:42.218304Z",
     "shell.execute_reply.started": "2022-10-22T11:46:58.140486Z"
    },
    "papermill": {
     "duration": 88.644086,
     "end_time": "2022-10-27T05:19:42.218462",
     "exception": false,
     "start_time": "2022-10-27T05:18:13.574376",
     "status": "completed"
    },
    "tags": []
   },
   "outputs": [
    {
     "name": "stdout",
     "output_type": "stream",
     "text": [
      "Epoch 1/10\n",
      "215/215 [==============================] - 10s 42ms/step - loss: 0.5205 - accuracy: 0.8837 - val_loss: 0.0225 - val_accuracy: 0.9918\n",
      "Epoch 2/10\n",
      "215/215 [==============================] - 9s 42ms/step - loss: 0.0813 - accuracy: 0.9725 - val_loss: 0.0262 - val_accuracy: 0.9897\n",
      "Epoch 3/10\n",
      "215/215 [==============================] - 8s 39ms/step - loss: 0.0406 - accuracy: 0.9870 - val_loss: 0.0330 - val_accuracy: 0.9897\n",
      "Epoch 4/10\n",
      "215/215 [==============================] - 8s 39ms/step - loss: 0.0314 - accuracy: 0.9890 - val_loss: 0.0468 - val_accuracy: 0.9831\n",
      "\n",
      "Epoch 00004: ReduceLROnPlateau reducing learning rate to 0.0005000000237487257.\n",
      "Epoch 5/10\n",
      "215/215 [==============================] - 9s 41ms/step - loss: 0.0253 - accuracy: 0.9919 - val_loss: 0.0449 - val_accuracy: 0.9902\n",
      "Epoch 6/10\n",
      "215/215 [==============================] - 9s 40ms/step - loss: 0.0158 - accuracy: 0.9949 - val_loss: 0.0165 - val_accuracy: 0.9939\n",
      "Epoch 7/10\n",
      "215/215 [==============================] - 9s 42ms/step - loss: 0.0158 - accuracy: 0.9943 - val_loss: 0.0158 - val_accuracy: 0.9939\n",
      "Epoch 8/10\n",
      "215/215 [==============================] - 8s 39ms/step - loss: 0.0137 - accuracy: 0.9955 - val_loss: 0.0124 - val_accuracy: 0.9965\n",
      "Epoch 9/10\n",
      "215/215 [==============================] - 9s 42ms/step - loss: 0.0138 - accuracy: 0.9960 - val_loss: 0.0137 - val_accuracy: 0.9960\n",
      "Epoch 10/10\n",
      "215/215 [==============================] - 9s 41ms/step - loss: 0.0138 - accuracy: 0.9959 - val_loss: 0.0101 - val_accuracy: 0.9954\n"
     ]
    }
   ],
   "source": [
    "history = model.fit(datagen.flow(train_x,y_train, batch_size = 128) \n",
    "                    ,epochs = 10\n",
    "                    , validation_data = (test_x, y_test)\n",
    "                    , callbacks = [lr_reduction])"
   ]
  },
  {
   "cell_type": "markdown",
   "id": "neither-burst",
   "metadata": {
    "papermill": {
     "duration": 0.301065,
     "end_time": "2022-10-27T05:19:42.819907",
     "exception": false,
     "start_time": "2022-10-27T05:19:42.518842",
     "status": "completed"
    },
    "tags": []
   },
   "source": [
    "\n",
    "# Analyse the trained model"
   ]
  },
  {
   "cell_type": "code",
   "execution_count": 20,
   "id": "connected-deficit",
   "metadata": {
    "execution": {
     "iopub.execute_input": "2022-10-27T05:19:43.429492Z",
     "iopub.status.busy": "2022-10-27T05:19:43.428649Z",
     "iopub.status.idle": "2022-10-27T05:19:43.435492Z",
     "shell.execute_reply": "2022-10-27T05:19:43.434733Z",
     "shell.execute_reply.started": "2022-10-22T11:48:49.327108Z"
    },
    "papermill": {
     "duration": 0.316598,
     "end_time": "2022-10-27T05:19:43.435642",
     "exception": false,
     "start_time": "2022-10-27T05:19:43.119044",
     "status": "completed"
    },
    "tags": []
   },
   "outputs": [
    {
     "name": "stdout",
     "output_type": "stream",
     "text": [
      "Model: \"sequential\"\n",
      "_________________________________________________________________\n",
      "Layer (type)                 Output Shape              Param #   \n",
      "=================================================================\n",
      "conv2d (Conv2D)              (None, 26, 26, 75)        750       \n",
      "_________________________________________________________________\n",
      "batch_normalization (BatchNo (None, 26, 26, 75)        300       \n",
      "_________________________________________________________________\n",
      "max_pooling2d (MaxPooling2D) (None, 13, 13, 75)        0         \n",
      "_________________________________________________________________\n",
      "conv2d_1 (Conv2D)            (None, 11, 11, 100)       67600     \n",
      "_________________________________________________________________\n",
      "dropout (Dropout)            (None, 11, 11, 100)       0         \n",
      "_________________________________________________________________\n",
      "batch_normalization_1 (Batch (None, 11, 11, 100)       400       \n",
      "_________________________________________________________________\n",
      "max_pooling2d_1 (MaxPooling2 (None, 6, 6, 100)         0         \n",
      "_________________________________________________________________\n",
      "conv2d_2 (Conv2D)            (None, 4, 4, 75)          67575     \n",
      "_________________________________________________________________\n",
      "batch_normalization_2 (Batch (None, 4, 4, 75)          300       \n",
      "_________________________________________________________________\n",
      "max_pooling2d_2 (MaxPooling2 (None, 2, 2, 75)          0         \n",
      "_________________________________________________________________\n",
      "flatten (Flatten)            (None, 300)               0         \n",
      "_________________________________________________________________\n",
      "dense (Dense)                (None, 608)               183008    \n",
      "_________________________________________________________________\n",
      "dropout_1 (Dropout)          (None, 608)               0         \n",
      "_________________________________________________________________\n",
      "dense_1 (Dense)              (None, 24)                14616     \n",
      "=================================================================\n",
      "Total params: 334,549\n",
      "Trainable params: 334,049\n",
      "Non-trainable params: 500\n",
      "_________________________________________________________________\n"
     ]
    }
   ],
   "source": [
    "model.summary()"
   ]
  },
  {
   "cell_type": "code",
   "execution_count": 21,
   "id": "innovative-popularity",
   "metadata": {
    "execution": {
     "iopub.execute_input": "2022-10-27T05:19:44.113900Z",
     "iopub.status.busy": "2022-10-27T05:19:44.103992Z",
     "iopub.status.idle": "2022-10-27T05:19:44.440719Z",
     "shell.execute_reply": "2022-10-27T05:19:44.441140Z",
     "shell.execute_reply.started": "2022-10-22T11:49:39.796759Z"
    },
    "papermill": {
     "duration": 0.675917,
     "end_time": "2022-10-27T05:19:44.441290",
     "exception": false,
     "start_time": "2022-10-27T05:19:43.765373",
     "status": "completed"
    },
    "tags": []
   },
   "outputs": [
    {
     "data": {
      "image/png": "[encoded data removed]",
      "text/plain": [
       "<Figure size 1152x648 with 2 Axes>"
      ]
     },
     "metadata": {},
     "output_type": "display_data"
    }
   ],
   "source": [
    "epochs = [i for i in range(10)]\n",
    "fig , ax = plt.subplots(1,2)\n",
    "train_acc = history.history['accuracy']\n",
    "train_loss = history.history['loss']\n",
    "val_acc = history.history['val_accuracy']\n",
    "val_loss = history.history['val_loss']\n",
    "fig.set_size_inches(16,9)\n",
    "\n",
    "ax[0].plot(epochs , train_acc , 'go-' , label = 'Training Accuracy')\n",
    "ax[0].plot(epochs , val_acc , 'ro-' , label = 'Testing Accuracy')\n",
    "ax[0].set_title('Training & Validation Accuracy')\n",
    "ax[0].legend()\n",
    "ax[0].set_xlabel(\"Epochs\")\n",
    "ax[0].set_ylabel(\"Accuracy\")\n",
    "\n",
    "ax[1].plot(epochs , train_loss , 'g-o' , label = 'Training Loss')\n",
    "ax[1].plot(epochs , val_loss , 'r-o' , label = 'Testing Loss')\n",
    "ax[1].set_title('Testing Accuracy & Loss')\n",
    "ax[1].legend()\n",
    "ax[1].set_xlabel(\"Epochs\")\n",
    "ax[1].set_ylabel(\"Loss\")\n",
    "plt.show()"
   ]
  },
  {
   "cell_type": "code",
   "execution_count": 22,
   "id": "athletic-radiation",
   "metadata": {
    "execution": {
     "iopub.execute_input": "2022-10-27T05:19:45.053069Z",
     "iopub.status.busy": "2022-10-27T05:19:45.051998Z",
     "iopub.status.idle": "2022-10-27T05:19:45.631367Z",
     "shell.execute_reply": "2022-10-27T05:19:45.630801Z",
     "shell.execute_reply.started": "2022-10-22T11:50:45.238788Z"
    },
    "papermill": {
     "duration": 0.889234,
     "end_time": "2022-10-27T05:19:45.631493",
     "exception": false,
     "start_time": "2022-10-27T05:19:44.742259",
     "status": "completed"
    },
    "tags": []
   },
   "outputs": [
    {
     "data": {
      "image/png": "[encoded data removed]",
      "text/plain": [
       "<IPython.core.display.Image object>"
      ]
     },
     "execution_count": 22,
     "metadata": {},
     "output_type": "execute_result"
    }
   ],
   "source": [
    "tf.keras.utils.plot_model(\n",
    "    model,\n",
    "    to_file=\"model.png\",\n",
    "    show_shapes=False,\n",
    "    show_dtype=False,\n",
    "    show_layer_names=True,\n",
    "    rankdir=\"TB\",\n",
    "    expand_nested=False,\n",
    "    dpi=96,\n",
    ")"
   ]
  },
  {
   "cell_type": "markdown",
   "id": "upper-mirror",
   "metadata": {
    "papermill": {
     "duration": 0.303529,
     "end_time": "2022-10-27T05:19:46.238324",
     "exception": false,
     "start_time": "2022-10-27T05:19:45.934795",
     "status": "completed"
    },
    "tags": []
   },
   "source": [
    "Confusion metrix"
   ]
  },
  {
   "cell_type": "code",
   "execution_count": 23,
   "id": "deluxe-contrary",
   "metadata": {
    "execution": {
     "iopub.execute_input": "2022-10-27T05:19:47.077452Z",
     "iopub.status.busy": "2022-10-27T05:19:47.076599Z",
     "iopub.status.idle": "2022-10-27T05:19:47.897014Z",
     "shell.execute_reply": "2022-10-27T05:19:47.897482Z",
     "shell.execute_reply.started": "2022-10-22T11:51:00.772247Z"
    },
    "papermill": {
     "duration": 1.273281,
     "end_time": "2022-10-27T05:19:47.897673",
     "exception": false,
     "start_time": "2022-10-27T05:19:46.624392",
     "status": "completed"
    },
    "tags": []
   },
   "outputs": [],
   "source": [
    "predictions = model.predict(test_x)"
   ]
  },
  {
   "cell_type": "code",
   "execution_count": 24,
   "id": "little-couple",
   "metadata": {
    "execution": {
     "iopub.execute_input": "2022-10-27T05:19:48.519849Z",
     "iopub.status.busy": "2022-10-27T05:19:48.518819Z",
     "iopub.status.idle": "2022-10-27T05:19:48.521424Z",
     "shell.execute_reply": "2022-10-27T05:19:48.521869Z",
     "shell.execute_reply.started": "2022-10-22T11:51:08.713324Z"
    },
    "papermill": {
     "duration": 0.314258,
     "end_time": "2022-10-27T05:19:48.522031",
     "exception": false,
     "start_time": "2022-10-27T05:19:48.207773",
     "status": "completed"
    },
    "tags": []
   },
   "outputs": [],
   "source": [
    "def predictions_to_labels(pred):\n",
    "    labels =[]\n",
    "    for p in pred:\n",
    "        labels.append(unique_labels[np.argmax(p)])\n",
    "    return labels"
   ]
  },
  {
   "cell_type": "code",
   "execution_count": 25,
   "id": "conceptual-disclosure",
   "metadata": {
    "execution": {
     "iopub.execute_input": "2022-10-27T05:19:49.154766Z",
     "iopub.status.busy": "2022-10-27T05:19:49.152304Z",
     "iopub.status.idle": "2022-10-27T05:19:49.187634Z",
     "shell.execute_reply": "2022-10-27T05:19:49.187161Z",
     "shell.execute_reply.started": "2022-10-22T11:51:12.844927Z"
    },
    "papermill": {
     "duration": 0.354874,
     "end_time": "2022-10-27T05:19:49.187774",
     "exception": false,
     "start_time": "2022-10-27T05:19:48.832900",
     "status": "completed"
    },
    "tags": []
   },
   "outputs": [],
   "source": [
    "y_pred_labels = predictions_to_labels(predictions)\n",
    "y_test_labels = predictions_to_labels(y_test)"
   ]
  },
  {
   "cell_type": "code",
   "execution_count": 26,
   "id": "lovely-breathing",
   "metadata": {
    "execution": {
     "iopub.execute_input": "2022-10-27T05:19:49.816467Z",
     "iopub.status.busy": "2022-10-27T05:19:49.815691Z",
     "iopub.status.idle": "2022-10-27T05:19:49.823260Z",
     "shell.execute_reply": "2022-10-27T05:19:49.822845Z",
     "shell.execute_reply.started": "2022-10-22T11:51:20.484813Z"
    },
    "papermill": {
     "duration": 0.326413,
     "end_time": "2022-10-27T05:19:49.823380",
     "exception": false,
     "start_time": "2022-10-27T05:19:49.496967",
     "status": "completed"
    },
    "tags": []
   },
   "outputs": [
    {
     "data": {
      "text/plain": [
       "0.995398773006135"
      ]
     },
     "execution_count": 26,
     "metadata": {},
     "output_type": "execute_result"
    }
   ],
   "source": [
    "accuracy_score(y_test_labels,y_pred_labels)"
   ]
  },
  {
   "cell_type": "code",
   "execution_count": 27,
   "id": "molecular-radical",
   "metadata": {
    "execution": {
     "iopub.execute_input": "2022-10-27T05:19:50.443201Z",
     "iopub.status.busy": "2022-10-27T05:19:50.442455Z",
     "iopub.status.idle": "2022-10-27T05:19:52.490202Z",
     "shell.execute_reply": "2022-10-27T05:19:52.489743Z",
     "shell.execute_reply.started": "2022-10-22T11:51:27.822520Z"
    },
    "papermill": {
     "duration": 2.359631,
     "end_time": "2022-10-27T05:19:52.490323",
     "exception": false,
     "start_time": "2022-10-27T05:19:50.130692",
     "status": "completed"
    },
    "tags": []
   },
   "outputs": [
    {
     "data": {
      "text/plain": [
       "<AxesSubplot:>"
      ]
     },
     "execution_count": 27,
     "metadata": {},
     "output_type": "execute_result"
    },
    {
     "data": {
      "image/png": "[encoded data removed]",
      "text/plain": [
       "<Figure size 1440x1440 with 2 Axes>"
      ]
     },
     "metadata": {},
     "output_type": "display_data"
    }
   ],
   "source": [
    "cm= confusion_matrix(y_test_labels,y_pred_labels)\n",
    "plt.figure(figsize=(20,20))\n",
    "sns.heatmap(cm,annot=True,cmap='twilight_shifted')"
   ]
  },
  {
   "cell_type": "code",
   "execution_count": null,
   "id": "ongoing-anime",
   "metadata": {
    "papermill": {
     "duration": 0.311577,
     "end_time": "2022-10-27T05:19:53.114999",
     "exception": false,
     "start_time": "2022-10-27T05:19:52.803422",
     "status": "completed"
    },
    "tags": []
   },
   "outputs": [],
   "source": []
  },
  {
   "cell_type": "code",
   "execution_count": null,
   "id": "raised-coupon",
   "metadata": {
    "papermill": {
     "duration": 0.360939,
     "end_time": "2022-10-27T05:19:53.788856",
     "exception": false,
     "start_time": "2022-10-27T05:19:53.427917",
     "status": "completed"
    },
    "tags": []
   },
   "outputs": [],
   "source": []
  },
  {
   "cell_type": "code",
   "execution_count": null,
   "id": "official-elder",
   "metadata": {
    "papermill": {
     "duration": 0.310912,
     "end_time": "2022-10-27T05:19:54.410911",
     "exception": false,
     "start_time": "2022-10-27T05:19:54.099999",
     "status": "completed"
    },
    "tags": []
   },
   "outputs": [],
   "source": []
  },
  {
   "cell_type": "code",
   "execution_count": null,
   "id": "important-mozambique",
   "metadata": {
    "papermill": {
     "duration": 0.307752,
     "end_time": "2022-10-27T05:19:55.030276",
     "exception": false,
     "start_time": "2022-10-27T05:19:54.722524",
     "status": "completed"
    },
    "tags": []
   },
   "outputs": [],
   "source": []
  },
  {
   "cell_type": "code",
   "execution_count": null,
   "id": "human-german",
   "metadata": {
    "papermill": {
     "duration": 0.329414,
     "end_time": "2022-10-27T05:19:55.667534",
     "exception": false,
     "start_time": "2022-10-27T05:19:55.338120",
     "status": "completed"
    },
    "tags": []
   },
   "outputs": [],
   "source": []
  },
  {
   "cell_type": "code",
   "execution_count": null,
   "id": "transparent-wheel",
   "metadata": {
    "papermill": {
     "duration": 0.311692,
     "end_time": "2022-10-27T05:19:56.289797",
     "exception": false,
     "start_time": "2022-10-27T05:19:55.978105",
     "status": "completed"
    },
    "tags": []
   },
   "outputs": [],
   "source": []
  }
 ],
 "metadata": {
  "kernelspec": {
   "display_name": "Python 3",
   "language": "python",
   "name": "python3"
  },
  "language_info": {
   "codemirror_mode": {
    "name": "ipython",
    "version": 3
   },
   "file_extension": ".py",
   "mimetype": "text/x-python",
   "name": "python",
   "nbconvert_exporter": "python",
   "pygments_lexer": "ipython3",
   "version": "3.7.10"
  },
  "papermill": {
   "default_parameters": {},
   "duration": 340.857668,
   "end_time": "2022-10-27T05:19:58.849013",
   "environment_variables": {},
   "exception": null,
   "input_path": "__notebook__.ipynb",
   "output_path": "__notebook__.ipynb",
   "parameters": {},
   "start_time": "2022-10-27T05:14:17.991345",
   "version": "2.3.3"
  }
 },
 "nbformat": 4,
 "nbformat_minor": 5
}
